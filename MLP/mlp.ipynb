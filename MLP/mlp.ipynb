{
 "cells": [
  {
   "cell_type": "code",
   "execution_count": null,
   "metadata": {},
   "outputs": [],
   "source": [
    "import os\n",
    "import random\n",
    "\n",
    "random.seed(43)\n",
    "\n",
    "import pandas as pd\n",
    "import numpy as np\n",
    "import matplotlib.pyplot as plt\n",
    "from sklearn.preprocessing import StandardScaler, LabelEncoder\n",
    "\n",
    "import torch\n",
    "\n",
    "import MLP.run_training_testing_mpl as run_traintest_mlp\n"
   ]
  },
  {
   "cell_type": "code",
   "execution_count": null,
   "metadata": {},
   "outputs": [],
   "source": [
    "# find device\n",
    "if torch.cuda.is_available(): # NVIDIA\n",
    "    device = torch.device('cuda')\n",
    "elif torch.backends.mps.is_available(): # apple silicon\n",
    "    device = torch.device('mps') \n",
    "else:\n",
    "    device = torch.device('cpu') # fallback\n",
    "device"
   ]
  },
  {
   "cell_type": "code",
   "execution_count": null,
   "metadata": {},
   "outputs": [],
   "source": [
    "num_cpus = os.cpu_count()\n",
    "print(num_cpus, 'CPUs available')\n",
    "num_cpus = 1"
   ]
  },
  {
   "cell_type": "code",
   "execution_count": null,
   "metadata": {},
   "outputs": [],
   "source": [
    "batch_size =2"
   ]
  },
  {
   "cell_type": "markdown",
   "metadata": {},
   "source": [
    "## Reading dataset"
   ]
  },
  {
   "cell_type": "code",
   "execution_count": null,
   "metadata": {},
   "outputs": [],
   "source": [
    "datafldr =\"/Users/shararehsayyad/Documents/Courses/AI\"\n",
    "dataai=\"/Activity_recognition/deeplearning_activity_recognition/data/WISDM_ar_v1.1/\"\n",
    "datapath = datafldr + dataai\n",
    "col_names = ['user', 'activity', 'timestamp', 'x-accel', 'y-accel', 'z-accel']\n",
    "\n",
    "df = pd.read_csv(datapath+\"WISDM_ar_v1.1_raw.txt\",\n",
    "                  header=None, names=col_names, delimiter=',', comment=';',\n",
    "                    on_bad_lines='skip') #skip/warn bad lines\n",
    "print(df.shape)\n",
    "df.head()"
   ]
  },
  {
   "cell_type": "code",
   "execution_count": null,
   "metadata": {},
   "outputs": [],
   "source": [
    "num_usrs = df['user'].unique()\n",
    "print(num_usrs.shape)"
   ]
  },
  {
   "cell_type": "code",
   "execution_count": null,
   "metadata": {},
   "outputs": [],
   "source": [
    "class_labels = df.activity.unique()\n",
    "num_classes = len(class_labels)\n",
    "print(class_labels)"
   ]
  },
  {
   "cell_type": "code",
   "execution_count": null,
   "metadata": {},
   "outputs": [],
   "source": [
    "df[\"user\"].value_counts()\n",
    "df.loc[(df['user'] == 1) & (df['activity'] == 'Jogging')].head()\n",
    "tmpdf = df.loc[(df['user'] == 1) & (df['activity'] == 'Jogging')].sort_values('timestamp').head()\n"
   ]
  },
  {
   "cell_type": "code",
   "execution_count": null,
   "metadata": {},
   "outputs": [],
   "source": [
    "# def standardize_and_encodig(dfold):\n",
    "#     scalar = StandardScaler()\n",
    "#     act_col=dfold['activity']\n",
    "#     usr_col=dfold['user']\n",
    "#     df_no_act = dfold.drop(columns=['activity', 'user'])\n",
    "#     df_scaled = scalar.fit_transform(df_no_act)\n",
    "#     df_scaled = pd.DataFrame(df_scaled, columns=df_no_act.columns)\n",
    "#     df_scaled['activity'] = act_col\n",
    "#     df_scaled['user'] = usr_col\n",
    "#     le = LabelEncoder()\n",
    "#     df_scaled['activity_encoded'] = le.fit_transform(df_scaled['activity'])\n",
    "#     return df_scaled\n",
    "# print(df.head())\n",
    "# df = standardize_and_encodig(df)\n",
    "# print(df.head())"
   ]
  },
  {
   "cell_type": "code",
   "execution_count": null,
   "metadata": {},
   "outputs": [],
   "source": [
    "def encodedf(df):\n",
    "    le = LabelEncoder()\n",
    "    df['activity_encoded'] = le.fit_transform(df['activity'])\n",
    "    return df\n",
    "df = encodedf(df)\n",
    "print(df.head())"
   ]
  },
  {
   "cell_type": "code",
   "execution_count": null,
   "metadata": {},
   "outputs": [],
   "source": [
    "\n",
    "def plot_samples(num_samples, dataf):\n",
    "    fig, ax =plt.subplots(num_samples,len(class_labels), figsize=(8, 3.5))\n",
    "\n",
    "    for jth,usr in enumerate(random.sample(sorted(num_usrs), num_samples)):\n",
    "        for idx, act in enumerate(class_labels):\n",
    "            if jth == 0:ax[jth,idx].set_title(act)\n",
    "            ax[jth,idx].set_ylim(min(dataf['x-accel'].min(), dataf['y-accel'].min(), dataf['z-accel'].min()),\n",
    "                                max(dataf['x-accel'].max(), dataf['y-accel'].max(), dataf['z-accel'].max()))\n",
    "            # ax[jth,idx].set_xlim(dataf['timestamp'].min(), dataf['timestamp'].max())\n",
    "            ax[jth,idx].set_yticklabels([])\n",
    "            ax[jth,idx].set_xticklabels([])\n",
    "            ax[jth,idx].sharey(ax[jth,0])\n",
    "            if idx==0: ax[jth,idx].set_ylabel(f'usr-{usr}')\n",
    "            tmpdf = dataf.loc[(dataf['user'] == usr) & (dataf['activity'] == act)]\n",
    "            ax[jth,idx].scatter(tmpdf['timestamp'], tmpdf['x-accel'], label='x-accel', s=0.2)\n",
    "            ax[jth,idx].scatter(tmpdf['timestamp'], tmpdf['y-accel'], label='y-accel', s=0.2)\n",
    "            ax[jth,idx].scatter(tmpdf['timestamp'], tmpdf['z-accel'], label='z-accel', s=0.2)\n",
    "    plt.tight_layout(pad=0., w_pad=0., h_pad=0)\n",
    "    plt.show()\n",
    "\n",
    "\n",
    "plot_samples(4, df)\n"
   ]
  },
  {
   "cell_type": "code",
   "execution_count": null,
   "metadata": {},
   "outputs": [],
   "source": [
    "x = df.drop(columns=['activity', 'activity_encoded'])\n",
    "y = df['activity_encoded']\n",
    "num_features = x.shape[1]\n",
    "print(x.shape, num_features)\n",
    "print(df.groupby(['activity_encoded', 'activity']).size())\n",
    "x.head()"
   ]
  },
  {
   "cell_type": "markdown",
   "metadata": {},
   "source": [
    "## Training and Testing MLP model"
   ]
  },
  {
   "cell_type": "code",
   "execution_count": null,
   "metadata": {},
   "outputs": [],
   "source": [
    "run_traintest_mlp.run_mlp_training(x,y,class_labels, device, num_features, num_classes,test_size=0.4, val_size=0.2, batch_size=1, num_cpus=num_cpus,\n",
    "                      lr=0.001, num_epochs=10,  patience=4, modeltype=\"mlp2\", num_hidden_lyr=4, hidden_lyr_size=num_classes+1, verbose=True)"
   ]
  }
 ],
 "metadata": {
  "kernelspec": {
   "display_name": "pinn",
   "language": "python",
   "name": "python3"
  },
  "language_info": {
   "codemirror_mode": {
    "name": "ipython",
    "version": 3
   },
   "file_extension": ".py",
   "mimetype": "text/x-python",
   "name": "python",
   "nbconvert_exporter": "python",
   "pygments_lexer": "ipython3",
   "version": "3.12.3"
  }
 },
 "nbformat": 4,
 "nbformat_minor": 2
}
